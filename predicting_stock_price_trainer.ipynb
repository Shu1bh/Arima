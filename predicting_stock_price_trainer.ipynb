{
  "nbformat": 4,
  "nbformat_minor": 0,
  "metadata": {
    "colab": {
      "name": "predicting_stock_price_trainer.ipynb",
      "provenance": []
    },
    "kernelspec": {
      "name": "python3",
      "display_name": "Python 3"
    },
    "language_info": {
      "name": "python"
    }
  },
  "cells": [
    {
      "cell_type": "code",
      "metadata": {
        "id": "wm8tsr-Sisk3"
      },
      "source": [
        "import warnings\n",
        "\n",
        "import matplotlib.pyplot as plt\n",
        "import numpy as np\n",
        "import pandas as pd\n",
        "import statsmodels.api as sm\n",
        "from pmdarima import auto_arima\n",
        "from sklearn import metrics\n",
        "from statsmodels.tsa.seasonal import seasonal_decompose\n",
        "from statsmodels.tsa.stattools import adfuller\n",
        "\n",
        "warnings.filterwarnings(\"ignore\")"
      ],
      "execution_count": 1,
      "outputs": []
    },
    {
      "cell_type": "code",
      "metadata": {
        "id": "yWxs2yZtjJ3P"
      },
      "source": [
        "df = pd.read_csv('FB.csv', parse_dates = True)"
      ],
      "execution_count": 4,
      "outputs": []
    },
    {
      "cell_type": "code",
      "metadata": {
        "colab": {
          "base_uri": "https://localhost:8080/",
          "height": 359
        },
        "id": "gVq682V9jass",
        "outputId": "84232caa-d3a2-46ce-d1df-11079513bf20"
      },
      "source": [
        "df.head(10)"
      ],
      "execution_count": 5,
      "outputs": [
        {
          "output_type": "execute_result",
          "data": {
            "text/html": [
              "<div>\n",
              "<style scoped>\n",
              "    .dataframe tbody tr th:only-of-type {\n",
              "        vertical-align: middle;\n",
              "    }\n",
              "\n",
              "    .dataframe tbody tr th {\n",
              "        vertical-align: top;\n",
              "    }\n",
              "\n",
              "    .dataframe thead th {\n",
              "        text-align: right;\n",
              "    }\n",
              "</style>\n",
              "<table border=\"1\" class=\"dataframe\">\n",
              "  <thead>\n",
              "    <tr style=\"text-align: right;\">\n",
              "      <th></th>\n",
              "      <th>Date</th>\n",
              "      <th>Open</th>\n",
              "      <th>High</th>\n",
              "      <th>Low</th>\n",
              "      <th>Close</th>\n",
              "      <th>Adj Close</th>\n",
              "      <th>Volume</th>\n",
              "    </tr>\n",
              "  </thead>\n",
              "  <tbody>\n",
              "    <tr>\n",
              "      <th>0</th>\n",
              "      <td>2014-12-08</td>\n",
              "      <td>76.180000</td>\n",
              "      <td>77.250000</td>\n",
              "      <td>75.400002</td>\n",
              "      <td>76.519997</td>\n",
              "      <td>76.519997</td>\n",
              "      <td>25733900</td>\n",
              "    </tr>\n",
              "    <tr>\n",
              "      <th>1</th>\n",
              "      <td>2014-12-09</td>\n",
              "      <td>75.199997</td>\n",
              "      <td>76.930000</td>\n",
              "      <td>74.779999</td>\n",
              "      <td>76.839996</td>\n",
              "      <td>76.839996</td>\n",
              "      <td>25358600</td>\n",
              "    </tr>\n",
              "    <tr>\n",
              "      <th>2</th>\n",
              "      <td>2014-12-10</td>\n",
              "      <td>76.650002</td>\n",
              "      <td>77.550003</td>\n",
              "      <td>76.070000</td>\n",
              "      <td>76.180000</td>\n",
              "      <td>76.180000</td>\n",
              "      <td>32210500</td>\n",
              "    </tr>\n",
              "    <tr>\n",
              "      <th>3</th>\n",
              "      <td>2014-12-11</td>\n",
              "      <td>76.519997</td>\n",
              "      <td>78.519997</td>\n",
              "      <td>76.480003</td>\n",
              "      <td>77.730003</td>\n",
              "      <td>77.730003</td>\n",
              "      <td>33462100</td>\n",
              "    </tr>\n",
              "    <tr>\n",
              "      <th>4</th>\n",
              "      <td>2014-12-12</td>\n",
              "      <td>77.160004</td>\n",
              "      <td>78.879997</td>\n",
              "      <td>77.019997</td>\n",
              "      <td>77.830002</td>\n",
              "      <td>77.830002</td>\n",
              "      <td>28091600</td>\n",
              "    </tr>\n",
              "    <tr>\n",
              "      <th>5</th>\n",
              "      <td>2014-12-15</td>\n",
              "      <td>78.459999</td>\n",
              "      <td>78.580002</td>\n",
              "      <td>76.559998</td>\n",
              "      <td>76.989998</td>\n",
              "      <td>76.989998</td>\n",
              "      <td>29396500</td>\n",
              "    </tr>\n",
              "    <tr>\n",
              "      <th>6</th>\n",
              "      <td>2014-12-16</td>\n",
              "      <td>76.190002</td>\n",
              "      <td>77.389999</td>\n",
              "      <td>74.589996</td>\n",
              "      <td>74.690002</td>\n",
              "      <td>74.690002</td>\n",
              "      <td>31554600</td>\n",
              "    </tr>\n",
              "    <tr>\n",
              "      <th>7</th>\n",
              "      <td>2014-12-17</td>\n",
              "      <td>75.010002</td>\n",
              "      <td>76.410004</td>\n",
              "      <td>74.900002</td>\n",
              "      <td>76.110001</td>\n",
              "      <td>76.110001</td>\n",
              "      <td>29203900</td>\n",
              "    </tr>\n",
              "    <tr>\n",
              "      <th>8</th>\n",
              "      <td>2014-12-18</td>\n",
              "      <td>76.889999</td>\n",
              "      <td>78.400002</td>\n",
              "      <td>76.510002</td>\n",
              "      <td>78.400002</td>\n",
              "      <td>78.400002</td>\n",
              "      <td>34222100</td>\n",
              "    </tr>\n",
              "    <tr>\n",
              "      <th>9</th>\n",
              "      <td>2014-12-19</td>\n",
              "      <td>78.750000</td>\n",
              "      <td>80.000000</td>\n",
              "      <td>78.330002</td>\n",
              "      <td>79.879997</td>\n",
              "      <td>79.879997</td>\n",
              "      <td>43335000</td>\n",
              "    </tr>\n",
              "  </tbody>\n",
              "</table>\n",
              "</div>"
            ],
            "text/plain": [
              "         Date       Open       High        Low      Close  Adj Close    Volume\n",
              "0  2014-12-08  76.180000  77.250000  75.400002  76.519997  76.519997  25733900\n",
              "1  2014-12-09  75.199997  76.930000  74.779999  76.839996  76.839996  25358600\n",
              "2  2014-12-10  76.650002  77.550003  76.070000  76.180000  76.180000  32210500\n",
              "3  2014-12-11  76.519997  78.519997  76.480003  77.730003  77.730003  33462100\n",
              "4  2014-12-12  77.160004  78.879997  77.019997  77.830002  77.830002  28091600\n",
              "5  2014-12-15  78.459999  78.580002  76.559998  76.989998  76.989998  29396500\n",
              "6  2014-12-16  76.190002  77.389999  74.589996  74.690002  74.690002  31554600\n",
              "7  2014-12-17  75.010002  76.410004  74.900002  76.110001  76.110001  29203900\n",
              "8  2014-12-18  76.889999  78.400002  76.510002  78.400002  78.400002  34222100\n",
              "9  2014-12-19  78.750000  80.000000  78.330002  79.879997  79.879997  43335000"
            ]
          },
          "metadata": {
            "tags": []
          },
          "execution_count": 5
        }
      ]
    },
    {
      "cell_type": "code",
      "metadata": {
        "colab": {
          "base_uri": "https://localhost:8080/"
        },
        "id": "RTMax_52kHfI",
        "outputId": "437c6458-a566-42c4-f23e-ec1f0409631d"
      },
      "source": [
        "df.shape[0]"
      ],
      "execution_count": 6,
      "outputs": [
        {
          "output_type": "execute_result",
          "data": {
            "text/plain": [
              "1259"
            ]
          },
          "metadata": {
            "tags": []
          },
          "execution_count": 6
        }
      ]
    },
    {
      "cell_type": "code",
      "metadata": {
        "colab": {
          "base_uri": "https://localhost:8080/",
          "height": 404
        },
        "id": "9qCJzFDEkQzU",
        "outputId": "eeae7cf5-bdd5-4cdd-b69b-9722f5adb998"
      },
      "source": [
        "df[\"Close\"].plot(figsize=(15, 6))\n",
        "plt.xlabel(\"Date\")\n",
        "plt.ylabel(\"Close\")\n",
        "plt.title(\"Closing price of Facebook stocks\")\n",
        "plt.show()"
      ],
      "execution_count": 7,
      "outputs": [
        {
          "output_type": "display_data",
          "data": {
            "image/png": "[encoded data removed]",
            "text/plain": [
              "<Figure size 1080x432 with 1 Axes>"
            ]
          },
          "metadata": {
            "tags": [],
            "needs_background": "light"
          }
        }
      ]
    },
    {
      "cell_type": "code",
      "metadata": {
        "colab": {
          "base_uri": "https://localhost:8080/",
          "height": 374
        },
        "id": "1SN-wiOUkZsb",
        "outputId": "43676a4e-aca6-4386-cb6a-d3aa6b1e793a"
      },
      "source": [
        "plt.figure(1, figsize=(15,6))\n",
        "plt.subplot(211)\n",
        "df[\"Close\"].hist()\n",
        "plt.subplot(212)\n",
        "df[\"Close\"].plot(kind='kde')\n",
        "plt.show()"
      ],
      "execution_count": 8,
      "outputs": [
        {
          "output_type": "display_data",
          "data": {
            "image/png": "[encoded data removed]",
            "text/plain": [
              "<Figure size 1080x432 with 2 Axes>"
            ]
          },
          "metadata": {
            "tags": [],
            "needs_background": "light"
          }
        }
      ]
    },
    {
      "cell_type": "code",
      "metadata": {
        "id": "HVeV0AkzknnU"
      },
      "source": [
        "def timeseries_evaluation_metrics_func(y_true, y_pred):\n",
        "    \n",
        "    def mean_absolute_percentage_error(y_true, y_pred): \n",
        "        y_true, y_pred = np.array(y_true), np.array(y_pred)\n",
        "        return np.mean(np.abs((y_true - y_pred) / y_true)) * 100\n",
        "    print('Evaluation metric results:-')\n",
        "    print(f'MSE is : {metrics.mean_squared_error(y_true, y_pred)}')\n",
        "    print(f'MSE is : {metrics.mean_absolute_error(y_true, y_pred)}')\n",
        "    print(f'RMSE is : {np.sqrt(metrics.mean_squared_error(y_true, y_pred))}')\n",
        "    print(f'MAPE is : {mean_absolute_percentage_error(y_true, y_pred)}')\n",
        "    print(f'R2 is : {metrics.r2_score(y_true, y_pred)}',end='\\n\\n')"
      ],
      "execution_count": 9,
      "outputs": []
    },
    {
      "cell_type": "code",
      "metadata": {
        "id": "j7iBSh9pktL-"
      },
      "source": [
        "\n",
        "def Augmented_Dickey_Fuller_Test_func(series , column_name):\n",
        "    print (f'Results of Dickey-Fuller Test for column: {column_name}')\n",
        "    dftest = adfuller(series, autolag='AIC')\n",
        "    dfoutput = pd.Series(dftest[0:4], index=['Test Statistic','p-value','No Lags Used','Number of Observations Used'])\n",
        "    for key,value in dftest[4].items():\n",
        "       dfoutput['Critical Value (%s)'%key] = value\n",
        "    print (dfoutput)\n",
        "    if dftest[1] <= 0.05:\n",
        "        print(\"Conclusion:====>\")\n",
        "        print(\"Reject the null hypothesis\")\n",
        "        print(\"Data is stationary\")\n",
        "    else:\n",
        "        print(\"Conclusion:====>\")\n",
        "        print(\"Fail to reject the null hypothesis\")\n",
        "        print(\"Data is non-stationary\")"
      ],
      "execution_count": 10,
      "outputs": []
    },
    {
      "cell_type": "code",
      "metadata": {
        "colab": {
          "base_uri": "https://localhost:8080/"
        },
        "id": "WA5CB-k7kvof",
        "outputId": "5640ec2f-2c80-43f7-ef67-21d639c24b8b"
      },
      "source": [
        "Augmented_Dickey_Fuller_Test_func(df['Close' ],'Close')"
      ],
      "execution_count": 11,
      "outputs": [
        {
          "output_type": "stream",
          "text": [
            "Results of Dickey-Fuller Test for column: Close\n",
            "Test Statistic                   -1.338096\n",
            "p-value                           0.611568\n",
            "No Lags Used                      0.000000\n",
            "Number of Observations Used    1258.000000\n",
            "Critical Value (1%)              -3.435559\n",
            "Critical Value (5%)              -2.863840\n",
            "Critical Value (10%)             -2.567995\n",
            "dtype: float64\n",
            "Conclusion:====>\n",
            "Fail to reject the null hypothesis\n",
            "Data is non-stationary\n"
          ],
          "name": "stdout"
        }
      ]
    },
    {
      "cell_type": "code",
      "metadata": {
        "id": "TZvCysRBk057"
      },
      "source": [
        "X = df[['Close' ]]\n",
        "train, test = X[0:-30], X[-30:]"
      ],
      "execution_count": 12,
      "outputs": []
    },
    {
      "cell_type": "code",
      "metadata": {
        "colab": {
          "base_uri": "https://localhost:8080/"
        },
        "id": "5FUVdtakk7sj",
        "outputId": "186530d7-bba8-4ccb-f1e1-873d61ed1f78"
      },
      "source": [
        "train.shape[0]"
      ],
      "execution_count": 14,
      "outputs": [
        {
          "output_type": "execute_result",
          "data": {
            "text/plain": [
              "1229"
            ]
          },
          "metadata": {
            "tags": []
          },
          "execution_count": 14
        }
      ]
    },
    {
      "cell_type": "code",
      "metadata": {
        "id": "4PZqMmn5k_gJ"
      },
      "source": [
        "train.to_json('train.json',orient='records',lines=True)"
      ],
      "execution_count": 15,
      "outputs": []
    },
    {
      "cell_type": "code",
      "metadata": {
        "id": "VxgB2tnslYn7"
      },
      "source": [
        "test.to_json('test.json',orient='records',lines=True)"
      ],
      "execution_count": 16,
      "outputs": []
    },
    {
      "cell_type": "code",
      "metadata": {
        "colab": {
          "base_uri": "https://localhost:8080/"
        },
        "id": "b1m_p-EPleel",
        "outputId": "513746b8-fb8f-48ab-abf8-a49c1d3f0ad3"
      },
      "source": [
        "arima_model = auto_arima(train,start_p=1, start_q=1,\n",
        "    max_p=7, max_q=7, seasonal=False,\n",
        "    d=None, trace=True,error_action='ignore',suppress_warnings=True, stepwise=True)"
      ],
      "execution_count": 17,
      "outputs": [
        {
          "output_type": "stream",
          "text": [
            "Performing stepwise search to minimize aic\n",
            " ARIMA(1,1,1)(0,0,0)[0] intercept   : AIC=5926.792, Time=0.92 sec\n",
            " ARIMA(0,1,0)(0,0,0)[0] intercept   : AIC=5929.302, Time=0.05 sec\n",
            " ARIMA(1,1,0)(0,0,0)[0] intercept   : AIC=5930.825, Time=0.14 sec\n",
            " ARIMA(0,1,1)(0,0,0)[0] intercept   : AIC=5930.810, Time=0.19 sec\n",
            " ARIMA(0,1,0)(0,0,0)[0]             : AIC=5928.648, Time=0.04 sec\n",
            " ARIMA(2,1,1)(0,0,0)[0] intercept   : AIC=5928.521, Time=1.01 sec\n",
            " ARIMA(1,1,2)(0,0,0)[0] intercept   : AIC=5930.139, Time=0.82 sec\n",
            " ARIMA(0,1,2)(0,0,0)[0] intercept   : AIC=5932.491, Time=0.32 sec\n",
            " ARIMA(2,1,0)(0,0,0)[0] intercept   : AIC=5932.541, Time=0.22 sec\n",
            " ARIMA(2,1,2)(0,0,0)[0] intercept   : AIC=inf, Time=2.34 sec\n",
            " ARIMA(1,1,1)(0,0,0)[0]             : AIC=5927.184, Time=0.29 sec\n",
            "\n",
            "Best model:  ARIMA(1,1,1)(0,0,0)[0] intercept\n",
            "Total fit time: 6.356 seconds\n"
          ],
          "name": "stdout"
        }
      ]
    },
    {
      "cell_type": "code",
      "metadata": {
        "colab": {
          "base_uri": "https://localhost:8080/",
          "height": 444
        },
        "id": "CV63uU5ilyit",
        "outputId": "fb945e0d-50f0-496f-fd30-3f30d990fc88"
      },
      "source": [
        "arima_model.summary()"
      ],
      "execution_count": 18,
      "outputs": [
        {
          "output_type": "execute_result",
          "data": {
            "text/html": [
              "<table class=\"simpletable\">\n",
              "<caption>SARIMAX Results</caption>\n",
              "<tr>\n",
              "  <th>Dep. Variable:</th>           <td>y</td>        <th>  No. Observations:  </th>   <td>1229</td>   \n",
              "</tr>\n",
              "<tr>\n",
              "  <th>Model:</th>           <td>SARIMAX(1, 1, 1)</td> <th>  Log Likelihood     </th> <td>-2959.396</td>\n",
              "</tr>\n",
              "<tr>\n",
              "  <th>Date:</th>            <td>Wed, 18 Aug 2021</td> <th>  AIC                </th> <td>5926.792</td> \n",
              "</tr>\n",
              "<tr>\n",
              "  <th>Time:</th>                <td>14:56:53</td>     <th>  BIC                </th> <td>5947.245</td> \n",
              "</tr>\n",
              "<tr>\n",
              "  <th>Sample:</th>                  <td>0</td>        <th>  HQIC               </th> <td>5934.488</td> \n",
              "</tr>\n",
              "<tr>\n",
              "  <th></th>                      <td> - 1229</td>     <th>                     </th>     <td> </td>    \n",
              "</tr>\n",
              "<tr>\n",
              "  <th>Covariance Type:</th>        <td>opg</td>       <th>                     </th>     <td> </td>    \n",
              "</tr>\n",
              "</table>\n",
              "<table class=\"simpletable\">\n",
              "<tr>\n",
              "      <td></td>         <th>coef</th>     <th>std err</th>      <th>z</th>      <th>P>|z|</th>  <th>[0.025</th>    <th>0.975]</th>  \n",
              "</tr>\n",
              "<tr>\n",
              "  <th>intercept</th> <td>    0.0122</td> <td>    0.012</td> <td>    1.046</td> <td> 0.296</td> <td>   -0.011</td> <td>    0.035</td>\n",
              "</tr>\n",
              "<tr>\n",
              "  <th>ar.L1</th>     <td>    0.8631</td> <td>    0.087</td> <td>    9.910</td> <td> 0.000</td> <td>    0.692</td> <td>    1.034</td>\n",
              "</tr>\n",
              "<tr>\n",
              "  <th>ma.L1</th>     <td>   -0.8999</td> <td>    0.076</td> <td>  -11.855</td> <td> 0.000</td> <td>   -1.049</td> <td>   -0.751</td>\n",
              "</tr>\n",
              "<tr>\n",
              "  <th>sigma2</th>    <td>    7.2569</td> <td>    0.083</td> <td>   87.805</td> <td> 0.000</td> <td>    7.095</td> <td>    7.419</td>\n",
              "</tr>\n",
              "</table>\n",
              "<table class=\"simpletable\">\n",
              "<tr>\n",
              "  <th>Ljung-Box (L1) (Q):</th>     <td>0.17</td> <th>  Jarque-Bera (JB):  </th> <td>112080.67</td>\n",
              "</tr>\n",
              "<tr>\n",
              "  <th>Prob(Q):</th>                <td>0.68</td> <th>  Prob(JB):          </th>   <td>0.00</td>   \n",
              "</tr>\n",
              "<tr>\n",
              "  <th>Heteroskedasticity (H):</th> <td>4.99</td> <th>  Skew:              </th>   <td>-2.83</td>  \n",
              "</tr>\n",
              "<tr>\n",
              "  <th>Prob(H) (two-sided):</th>    <td>0.00</td> <th>  Kurtosis:          </th>   <td>49.46</td>  \n",
              "</tr>\n",
              "</table><br/><br/>Warnings:<br/>[1] Covariance matrix calculated using the outer product of gradients (complex-step)."
            ],
            "text/plain": [
              "<class 'statsmodels.iolib.summary.Summary'>\n",
              "\"\"\"\n",
              "                               SARIMAX Results                                \n",
              "==============================================================================\n",
              "Dep. Variable:                      y   No. Observations:                 1229\n",
              "Model:               SARIMAX(1, 1, 1)   Log Likelihood               -2959.396\n",
              "Date:                Wed, 18 Aug 2021   AIC                           5926.792\n",
              "Time:                        14:56:53   BIC                           5947.245\n",
              "Sample:                             0   HQIC                          5934.488\n",
              "                               - 1229                                         \n",
              "Covariance Type:                  opg                                         \n",
              "==============================================================================\n",
              "                 coef    std err          z      P>|z|      [0.025      0.975]\n",
              "------------------------------------------------------------------------------\n",
              "intercept      0.0122      0.012      1.046      0.296      -0.011       0.035\n",
              "ar.L1          0.8631      0.087      9.910      0.000       0.692       1.034\n",
              "ma.L1         -0.8999      0.076    -11.855      0.000      -1.049      -0.751\n",
              "sigma2         7.2569      0.083     87.805      0.000       7.095       7.419\n",
              "===================================================================================\n",
              "Ljung-Box (L1) (Q):                   0.17   Jarque-Bera (JB):            112080.67\n",
              "Prob(Q):                              0.68   Prob(JB):                         0.00\n",
              "Heteroskedasticity (H):               4.99   Skew:                            -2.83\n",
              "Prob(H) (two-sided):                  0.00   Kurtosis:                        49.46\n",
              "===================================================================================\n",
              "\n",
              "Warnings:\n",
              "[1] Covariance matrix calculated using the outer product of gradients (complex-step).\n",
              "\"\"\""
            ]
          },
          "metadata": {
            "tags": []
          },
          "execution_count": 18
        }
      ]
    },
    {
      "cell_type": "code",
      "metadata": {
        "id": "tdbwgqcdl6Rt"
      },
      "source": [
        "forecast,conf_int = arima_model.predict(n_periods=30,return_conf_int=True)\n",
        "forecast = pd.DataFrame(forecast,columns=['close_pred'])"
      ],
      "execution_count": 19,
      "outputs": []
    },
    {
      "cell_type": "code",
      "metadata": {
        "id": "y6WoQX_wmb4t"
      },
      "source": [
        "forecast2 = arima_model.predict(n_periods=10,return_conf_int=False)"
      ],
      "execution_count": 20,
      "outputs": []
    },
    {
      "cell_type": "code",
      "metadata": {
        "colab": {
          "base_uri": "https://localhost:8080/"
        },
        "id": "xySfIWu_ms_6",
        "outputId": "61466ff2-dc27-4f9b-a9d9-cdcb34d841d8"
      },
      "source": [
        "forecast2"
      ],
      "execution_count": 21,
      "outputs": [
        {
          "output_type": "execute_result",
          "data": {
            "text/plain": [
              "array([186.43351514, 186.49190421, 186.55450422, 186.62073864,\n",
              "       186.69010987, 186.76218844, 186.83660368, 186.91303567,\n",
              "       186.99120828, 187.07088321])"
            ]
          },
          "metadata": {
            "tags": []
          },
          "execution_count": 21
        }
      ]
    },
    {
      "cell_type": "code",
      "metadata": {
        "colab": {
          "base_uri": "https://localhost:8080/",
          "height": 204
        },
        "id": "SGWi_7IVmuti",
        "outputId": "949a6853-1ce8-45e9-9faf-7e8655689dd4"
      },
      "source": [
        "forecast.head()"
      ],
      "execution_count": 22,
      "outputs": [
        {
          "output_type": "execute_result",
          "data": {
            "text/html": [
              "<div>\n",
              "<style scoped>\n",
              "    .dataframe tbody tr th:only-of-type {\n",
              "        vertical-align: middle;\n",
              "    }\n",
              "\n",
              "    .dataframe tbody tr th {\n",
              "        vertical-align: top;\n",
              "    }\n",
              "\n",
              "    .dataframe thead th {\n",
              "        text-align: right;\n",
              "    }\n",
              "</style>\n",
              "<table border=\"1\" class=\"dataframe\">\n",
              "  <thead>\n",
              "    <tr style=\"text-align: right;\">\n",
              "      <th></th>\n",
              "      <th>close_pred</th>\n",
              "    </tr>\n",
              "  </thead>\n",
              "  <tbody>\n",
              "    <tr>\n",
              "      <th>0</th>\n",
              "      <td>186.433515</td>\n",
              "    </tr>\n",
              "    <tr>\n",
              "      <th>1</th>\n",
              "      <td>186.491904</td>\n",
              "    </tr>\n",
              "    <tr>\n",
              "      <th>2</th>\n",
              "      <td>186.554504</td>\n",
              "    </tr>\n",
              "    <tr>\n",
              "      <th>3</th>\n",
              "      <td>186.620739</td>\n",
              "    </tr>\n",
              "    <tr>\n",
              "      <th>4</th>\n",
              "      <td>186.690110</td>\n",
              "    </tr>\n",
              "  </tbody>\n",
              "</table>\n",
              "</div>"
            ],
            "text/plain": [
              "   close_pred\n",
              "0  186.433515\n",
              "1  186.491904\n",
              "2  186.554504\n",
              "3  186.620739\n",
              "4  186.690110"
            ]
          },
          "metadata": {
            "tags": []
          },
          "execution_count": 22
        }
      ]
    },
    {
      "cell_type": "code",
      "metadata": {
        "colab": {
          "base_uri": "https://localhost:8080/"
        },
        "id": "N8KLU58om7JG",
        "outputId": "3327251f-efd0-4d5c-dd9a-db6761d182e5"
      },
      "source": [
        "conf_int"
      ],
      "execution_count": 23,
      "outputs": [
        {
          "output_type": "execute_result",
          "data": {
            "text/plain": [
              "array([[181.1536474 , 191.71338288],\n",
              "       [179.16106966, 193.82273875],\n",
              "       [177.72678533, 195.3822231 ],\n",
              "       [176.58509294, 196.65638433],\n",
              "       [175.63011821, 197.75010153],\n",
              "       [174.8063349 , 198.71804198],\n",
              "       [174.08021375, 199.5929936 ],\n",
              "       [173.42967817, 200.39639316],\n",
              "       [172.83931756, 201.14309901],\n",
              "       [172.29791314, 201.84385329],\n",
              "       [171.79703576, 202.50667378],\n",
              "       [171.33019458, 203.13769628],\n",
              "       [170.89229185, 203.7417121 ],\n",
              "       [170.47925864, 204.32252567],\n",
              "       [170.08780281, 204.88320088],\n",
              "       [169.71522966, 205.42623538],\n",
              "       [169.35931118, 205.95368717],\n",
              "       [169.01818874, 206.4672681 ],\n",
              "       [168.69029945, 206.96841438],\n",
              "       [168.37431958, 207.45834044],\n",
              "       [168.06912048, 207.93808054],\n",
              "       [167.77373389, 208.40852152],\n",
              "       [167.48732434, 208.87042856],\n",
              "       [167.20916696, 209.32446586],\n",
              "       [166.9386296 , 209.77121321],\n",
              "       [166.67515821, 210.21117948],\n",
              "       [166.41826484, 210.6448136 ],\n",
              "       [166.16751781, 211.07251359],\n",
              "       [165.92253346, 211.49463406],\n",
              "       [165.68296937, 211.91149235]])"
            ]
          },
          "metadata": {
            "tags": []
          },
          "execution_count": 23
        }
      ]
    },
    {
      "cell_type": "code",
      "metadata": {
        "id": "sVr8YUKom_cD"
      },
      "source": [
        "df_conf = pd.DataFrame(conf_int,columns= ['Upper_bound','Lower_bound'])\n",
        "df_conf[\"new_index\"] = range(1229, 1259)\n",
        "df_conf = df_conf.set_index(\"new_index\")"
      ],
      "execution_count": 24,
      "outputs": []
    },
    {
      "cell_type": "code",
      "metadata": {
        "colab": {
          "base_uri": "https://localhost:8080/"
        },
        "id": "atrrzC40nSvu",
        "outputId": "68756c59-811d-477a-8376-5e690045e0a1"
      },
      "source": [
        "timeseries_evaluation_metrics_func(test,forecast)"
      ],
      "execution_count": 25,
      "outputs": [
        {
          "output_type": "stream",
          "text": [
            "Evaluation metric results:-\n",
            "MSE is : 73.0162225718255\n",
            "MSE is : 7.728152585668978\n",
            "RMSE is : 8.544953046788818\n",
            "MAPE is : 3.9183622263792204\n",
            "R2 is : -2.98934892141766\n",
            "\n"
          ],
          "name": "stdout"
        }
      ]
    },
    {
      "cell_type": "code",
      "metadata": {
        "id": "H7iTrbOBnmTN"
      },
      "source": [
        "forecast[\"new_index\"] = range(1229, 1259)\n",
        "forecast = forecast.set_index(\"new_index\")"
      ],
      "execution_count": 26,
      "outputs": []
    },
    {
      "cell_type": "code",
      "metadata": {
        "colab": {
          "base_uri": "https://localhost:8080/",
          "height": 428
        },
        "id": "haRaE67_nxJB",
        "outputId": "95ad2f7e-2202-4e4c-817a-c2862620a3d0"
      },
      "source": [
        "import matplotlib.pyplot as plt\n",
        "%matplotlib inline\n",
        "plt.rcParams[\"figure.figsize\"] = [15,7]\n",
        "plt.plot( train, label='Train ')\n",
        "plt.plot(test, label='Test ')\n",
        "plt.plot(forecast, label='Predicted ')\n",
        "plt.plot(df_conf['Upper_bound'], label='Confidence Interval Upper bound ')\n",
        "plt.plot(df_conf['Lower_bound'], label='Confidence Interval Lower bound ')\n",
        "plt.legend(loc='best')\n",
        "plt.show()"
      ],
      "execution_count": 27,
      "outputs": [
        {
          "output_type": "display_data",
          "data": {
            "image/png": "[encoded data removed]",
            "text/plain": [
              "<Figure size 1080x504 with 1 Axes>"
            ]
          },
          "metadata": {
            "tags": [],
            "needs_background": "light"
          }
        }
      ]
    },
    {
      "cell_type": "code",
      "metadata": {
        "colab": {
          "base_uri": "https://localhost:8080/",
          "height": 458
        },
        "id": "y-utO0Qbn4xX",
        "outputId": "b27b99c1-2854-478f-bea2-664dda4010b8"
      },
      "source": [
        "arima_model.plot_diagnostics();"
      ],
      "execution_count": 28,
      "outputs": [
        {
          "output_type": "display_data",
          "data": {
            "image/png": "[encoded data removed]",
            "text/plain": [
              "<Figure size 1080x504 with 4 Axes>"
            ]
          },
          "metadata": {
            "tags": [],
            "needs_background": "light"
          }
        }
      ]
    },
    {
      "cell_type": "code",
      "metadata": {
        "id": "mgJ7xqT0oQra"
      },
      "source": [
        "import pickle\n",
        "#save model to disk\n",
        "pickle.dump(arima_model,open('Arima_model.pickle','wb'))"
      ],
      "execution_count": 38,
      "outputs": []
    },
    {
      "cell_type": "code",
      "metadata": {
        "colab": {
          "base_uri": "https://localhost:8080/",
          "height": 458
        },
        "id": "cy4fANZEotgp",
        "outputId": "3da5f540-964e-404a-a2ae-0289caa425ad"
      },
      "source": [
        "#load model from disk\n",
        "loaded_model=pickle.load(open('Arima_model.pickle','rb'))\n",
        "result = loaded_model.plot_diagnostics()"
      ],
      "execution_count": 39,
      "outputs": [
        {
          "output_type": "display_data",
          "data": {
            "image/png": "[encoded data removed]",
            "text/plain": [
              "<Figure size 1080x504 with 4 Axes>"
            ]
          },
          "metadata": {
            "tags": [],
            "needs_background": "light"
          }
        }
      ]
    },
    {
      "cell_type": "code",
      "metadata": {
        "colab": {
          "base_uri": "https://localhost:8080/"
        },
        "id": "_pj8nRLSo9uo",
        "outputId": "987c9a87-d9cd-4218-84aa-94c1d6d8743a"
      },
      "source": [
        "!pip freeze"
      ],
      "execution_count": 32,
      "outputs": [
        {
          "output_type": "stream",
          "text": [
            "absl-py==0.12.0\n",
            "alabaster==0.7.12\n",
            "albumentations==0.1.12\n",
            "altair==4.1.0\n",
            "appdirs==1.4.4\n",
            "argcomplete==1.12.3\n",
            "argon2-cffi==20.1.0\n",
            "arviz==0.11.2\n",
            "astor==0.8.1\n",
            "astropy==4.3.1\n",
            "astunparse==1.6.3\n",
            "atari-py==0.2.9\n",
            "atomicwrites==1.4.0\n",
            "attrs==21.2.0\n",
            "audioread==2.1.9\n",
            "autograd==1.3\n",
            "Babel==2.9.1\n",
            "backcall==0.2.0\n",
            "beautifulsoup4==4.6.3\n",
            "bleach==4.0.0\n",
            "blis==0.4.1\n",
            "bokeh==2.3.3\n",
            "Bottleneck==1.3.2\n",
            "branca==0.4.2\n",
            "bs4==0.0.1\n",
            "CacheControl==0.12.6\n",
            "cached-property==1.5.2\n",
            "cachetools==4.2.2\n",
            "catalogue==1.0.0\n",
            "certifi==2021.5.30\n",
            "cffi==1.14.6\n",
            "cftime==1.5.0\n",
            "chardet==3.0.4\n",
            "charset-normalizer==2.0.4\n",
            "clang==5.0\n",
            "click==7.1.2\n",
            "cloudpickle==1.3.0\n",
            "cmake==3.12.0\n",
            "cmdstanpy==0.9.5\n",
            "colorcet==2.0.6\n",
            "colorlover==0.3.0\n",
            "community==1.0.0b1\n",
            "contextlib2==0.5.5\n",
            "convertdate==2.3.2\n",
            "coverage==3.7.1\n",
            "coveralls==0.5\n",
            "crcmod==1.7\n",
            "cufflinks==0.17.3\n",
            "cvxopt==1.2.6\n",
            "cvxpy==1.0.31\n",
            "cycler==0.10.0\n",
            "cymem==2.0.5\n",
            "Cython==0.29.24\n",
            "daft==0.0.4\n",
            "dask==2.12.0\n",
            "datascience==0.10.6\n",
            "debugpy==1.0.0\n",
            "decorator==4.4.2\n",
            "defusedxml==0.7.1\n",
            "descartes==1.1.0\n",
            "dill==0.3.4\n",
            "distributed==1.25.3\n",
            "dlib @ file:///dlib-19.18.0-cp37-cp37m-linux_x86_64.whl\n",
            "dm-tree==0.1.6\n",
            "docopt==0.6.2\n",
            "docutils==0.17.1\n",
            "dopamine-rl==1.0.5\n",
            "earthengine-api==0.1.278\n",
            "easydict==1.9\n",
            "ecos==2.0.7.post1\n",
            "editdistance==0.5.3\n",
            "en-core-web-sm @ https://github.com/explosion/spacy-models/releases/download/en_core_web_sm-2.2.5/en_core_web_sm-2.2.5.tar.gz\n",
            "entrypoints==0.3\n",
            "ephem==4.0.0.2\n",
            "et-xmlfile==1.1.0\n",
            "fa2==0.3.5\n",
            "fastai==1.0.61\n",
            "fastdtw==0.3.4\n",
            "fastprogress==1.0.0\n",
            "fastrlock==0.6\n",
            "fbprophet==0.7.1\n",
            "feather-format==0.4.1\n",
            "filelock==3.0.12\n",
            "firebase-admin==4.4.0\n",
            "fix-yahoo-finance==0.0.22\n",
            "Flask==1.1.4\n",
            "flatbuffers==1.12\n",
            "folium==0.8.3\n",
            "future==0.16.0\n",
            "gast==0.4.0\n",
            "GDAL==2.2.2\n",
            "gdown==3.6.4\n",
            "gensim==3.6.0\n",
            "geographiclib==1.52\n",
            "geopy==1.17.0\n",
            "gin-config==0.4.0\n",
            "glob2==0.7\n",
            "google==2.0.3\n",
            "google-api-core==1.26.3\n",
            "google-api-python-client==1.12.8\n",
            "google-auth==1.34.0\n",
            "google-auth-httplib2==0.0.4\n",
            "google-auth-oauthlib==0.4.5\n",
            "google-cloud-bigquery==1.21.0\n",
            "google-cloud-bigquery-storage==1.1.0\n",
            "google-cloud-core==1.0.3\n",
            "google-cloud-datastore==1.8.0\n",
            "google-cloud-firestore==1.7.0\n",
            "google-cloud-language==1.2.0\n",
            "google-cloud-storage==1.18.1\n",
            "google-cloud-translate==1.5.0\n",
            "google-colab @ file:///colabtools/dist/google-colab-1.0.0.tar.gz\n",
            "google-pasta==0.2.0\n",
            "google-resumable-media==0.4.1\n",
            "googleapis-common-protos==1.53.0\n",
            "googledrivedownloader==0.4\n",
            "graphviz==0.10.1\n",
            "greenlet==1.1.1\n",
            "grpcio==1.39.0\n",
            "gspread==3.0.1\n",
            "gspread-dataframe==3.0.8\n",
            "gym==0.17.3\n",
            "h5py==3.1.0\n",
            "HeapDict==1.0.1\n",
            "hijri-converter==2.1.3\n",
            "holidays==0.10.5.2\n",
            "holoviews==1.14.5\n",
            "html5lib==1.0.1\n",
            "httpimport==0.5.18\n",
            "httplib2==0.17.4\n",
            "httplib2shim==0.0.3\n",
            "humanize==0.5.1\n",
            "hyperopt==0.1.2\n",
            "ideep4py==2.0.0.post3\n",
            "idna==2.10\n",
            "imageio==2.4.1\n",
            "imagesize==1.2.0\n",
            "imbalanced-learn==0.4.3\n",
            "imblearn==0.0\n",
            "imgaug==0.2.9\n",
            "importlib-metadata==4.6.3\n",
            "importlib-resources==5.2.2\n",
            "imutils==0.5.4\n",
            "inflect==2.1.0\n",
            "iniconfig==1.1.1\n",
            "intel-openmp==2021.3.0\n",
            "intervaltree==2.1.0\n",
            "ipykernel==4.10.1\n",
            "ipython==5.5.0\n",
            "ipython-genutils==0.2.0\n",
            "ipython-sql==0.3.9\n",
            "ipywidgets==7.6.3\n",
            "itsdangerous==1.1.0\n",
            "jax==0.2.17\n",
            "jaxlib @ https://storage.googleapis.com/jax-releases/cuda110/jaxlib-0.1.69+cuda110-cp37-none-manylinux2010_x86_64.whl\n",
            "jdcal==1.4.1\n",
            "jedi==0.18.0\n",
            "jieba==0.42.1\n",
            "Jinja2==2.11.3\n",
            "joblib==1.0.1\n",
            "jpeg4py==0.1.4\n",
            "jsonschema==2.6.0\n",
            "jupyter==1.0.0\n",
            "jupyter-client==5.3.5\n",
            "jupyter-console==5.2.0\n",
            "jupyter-core==4.7.1\n",
            "jupyterlab-pygments==0.1.2\n",
            "jupyterlab-widgets==1.0.0\n",
            "kaggle==1.5.12\n",
            "kapre==0.3.5\n",
            "keras==2.6.0\n",
            "Keras-Preprocessing==1.1.2\n",
            "keras-vis==0.4.1\n",
            "kiwisolver==1.3.1\n",
            "korean-lunar-calendar==0.2.1\n",
            "librosa==0.8.1\n",
            "lightgbm==2.2.3\n",
            "llvmlite==0.34.0\n",
            "lmdb==0.99\n",
            "LunarCalendar==0.0.9\n",
            "lxml==4.2.6\n",
            "Markdown==3.3.4\n",
            "MarkupSafe==2.0.1\n",
            "matplotlib==3.2.2\n",
            "matplotlib-inline==0.1.2\n",
            "matplotlib-venn==0.11.6\n",
            "missingno==0.5.0\n",
            "mistune==0.8.4\n",
            "mizani==0.6.0\n",
            "mkl==2019.0\n",
            "mlxtend==0.14.0\n",
            "more-itertools==8.8.0\n",
            "moviepy==0.2.3.5\n",
            "mpmath==1.2.1\n",
            "msgpack==1.0.2\n",
            "multiprocess==0.70.12.2\n",
            "multitasking==0.0.9\n",
            "murmurhash==1.0.5\n",
            "music21==5.5.0\n",
            "natsort==5.5.0\n",
            "nbclient==0.5.4\n",
            "nbconvert==5.6.1\n",
            "nbformat==5.1.3\n",
            "nest-asyncio==1.5.1\n",
            "netCDF4==1.5.7\n",
            "networkx==2.6.2\n",
            "nibabel==3.0.2\n",
            "nltk==3.2.5\n",
            "notebook==5.3.1\n",
            "numba==0.51.2\n",
            "numexpr==2.7.3\n",
            "numpy==1.19.5\n",
            "nvidia-ml-py3==7.352.0\n",
            "oauth2client==4.1.3\n",
            "oauthlib==3.1.1\n",
            "okgrade==0.4.3\n",
            "opencv-contrib-python==4.1.2.30\n",
            "opencv-python==4.1.2.30\n",
            "openpyxl==2.5.9\n",
            "opt-einsum==3.3.0\n",
            "osqp==0.6.2.post0\n",
            "packaging==21.0\n",
            "palettable==3.3.0\n",
            "pandas==1.1.5\n",
            "pandas-datareader==0.9.0\n",
            "pandas-gbq==0.13.3\n",
            "pandas-profiling==1.4.1\n",
            "pandocfilters==1.4.3\n",
            "panel==0.12.1\n",
            "param==1.11.1\n",
            "parso==0.8.2\n",
            "pathlib==1.0.1\n",
            "patsy==0.5.1\n",
            "pep517==0.11.0\n",
            "pexpect==4.8.0\n",
            "pickleshare==0.7.5\n",
            "Pillow==7.1.2\n",
            "pip-tools==6.2.0\n",
            "plac==1.1.3\n",
            "plotly==4.4.1\n",
            "plotnine==0.6.0\n",
            "pluggy==0.7.1\n",
            "pmdarima==1.8.2\n",
            "pooch==1.4.0\n",
            "portpicker==1.3.9\n",
            "prefetch-generator==1.0.1\n",
            "preshed==3.0.5\n",
            "prettytable==2.1.0\n",
            "progressbar2==3.38.0\n",
            "prometheus-client==0.11.0\n",
            "promise==2.3\n",
            "prompt-toolkit==1.0.18\n",
            "protobuf==3.17.3\n",
            "psutil==5.4.8\n",
            "psycopg2==2.7.6.1\n",
            "ptyprocess==0.7.0\n",
            "py==1.10.0\n",
            "pyarrow==3.0.0\n",
            "pyasn1==0.4.8\n",
            "pyasn1-modules==0.2.8\n",
            "pycocotools==2.0.2\n",
            "pycparser==2.20\n",
            "pyct==0.4.8\n",
            "pydata-google-auth==1.2.0\n",
            "pydot==1.3.0\n",
            "pydot-ng==2.0.0\n",
            "pydotplus==2.0.2\n",
            "PyDrive==1.3.1\n",
            "pyemd==0.5.1\n",
            "pyerfa==2.0.0\n",
            "pyglet==1.5.0\n",
            "Pygments==2.6.1\n",
            "pygobject==3.26.1\n",
            "pymc3==3.11.2\n",
            "PyMeeus==0.5.11\n",
            "pymongo==3.12.0\n",
            "pymystem3==0.2.0\n",
            "PyOpenGL==3.1.5\n",
            "pyparsing==2.4.7\n",
            "pyrsistent==0.18.0\n",
            "pysndfile==1.3.8\n",
            "PySocks==1.7.1\n",
            "pystan==2.19.1.1\n",
            "pytest==3.6.4\n",
            "python-apt==0.0.0\n",
            "python-chess==0.23.11\n",
            "python-dateutil==2.8.2\n",
            "python-louvain==0.15\n",
            "python-slugify==5.0.2\n",
            "python-utils==2.5.6\n",
            "pytz==2018.9\n",
            "pyviz-comms==2.1.0\n",
            "PyWavelets==1.1.1\n",
            "PyYAML==3.13\n",
            "pyzmq==22.2.1\n",
            "qdldl==0.1.5.post0\n",
            "qtconsole==5.1.1\n",
            "QtPy==1.9.0\n",
            "regex==2019.12.20\n",
            "requests==2.23.0\n",
            "requests-oauthlib==1.3.0\n",
            "resampy==0.2.2\n",
            "retrying==1.3.3\n",
            "rpy2==3.4.5\n",
            "rsa==4.7.2\n",
            "scikit-image==0.16.2\n",
            "scikit-learn==0.22.2.post1\n",
            "scipy==1.4.1\n",
            "screen-resolution-extra==0.0.0\n",
            "scs==2.1.4\n",
            "seaborn==0.11.1\n",
            "semver==2.13.0\n",
            "Send2Trash==1.8.0\n",
            "setuptools-git==1.2\n",
            "Shapely==1.7.1\n",
            "simplegeneric==0.8.1\n",
            "six==1.15.0\n",
            "sklearn==0.0\n",
            "sklearn-pandas==1.8.0\n",
            "smart-open==5.1.0\n",
            "snowballstemmer==2.1.0\n",
            "sortedcontainers==2.4.0\n",
            "SoundFile==0.10.3.post1\n",
            "spacy==2.2.4\n",
            "Sphinx==1.8.5\n",
            "sphinxcontrib-serializinghtml==1.1.5\n",
            "sphinxcontrib-websupport==1.2.4\n",
            "SQLAlchemy==1.4.22\n",
            "sqlparse==0.4.1\n",
            "srsly==1.0.5\n",
            "statsmodels==0.12.2\n",
            "sympy==1.7.1\n",
            "tables==3.4.4\n",
            "tabulate==0.8.9\n",
            "tblib==1.7.0\n",
            "tensorboard==2.6.0\n",
            "tensorboard-data-server==0.6.1\n",
            "tensorboard-plugin-wit==1.8.0\n",
            "tensorflow @ file:///tensorflow-2.6.0-cp37-cp37m-linux_x86_64.whl\n",
            "tensorflow-datasets==4.0.1\n",
            "tensorflow-estimator==2.6.0\n",
            "tensorflow-gcs-config==2.6.0\n",
            "tensorflow-hub==0.12.0\n",
            "tensorflow-metadata==1.2.0\n",
            "tensorflow-probability==0.13.0\n",
            "termcolor==1.1.0\n",
            "terminado==0.11.0\n",
            "testpath==0.5.0\n",
            "text-unidecode==1.3\n",
            "textblob==0.15.3\n",
            "Theano-PyMC==1.1.2\n",
            "thinc==7.4.0\n",
            "tifffile==2021.8.8\n",
            "toml==0.10.2\n",
            "tomli==1.2.1\n",
            "toolz==0.11.1\n",
            "torch @ https://download.pytorch.org/whl/cu102/torch-1.9.0%2Bcu102-cp37-cp37m-linux_x86_64.whl\n",
            "torchsummary==1.5.1\n",
            "torchtext==0.10.0\n",
            "torchvision @ https://download.pytorch.org/whl/cu102/torchvision-0.10.0%2Bcu102-cp37-cp37m-linux_x86_64.whl\n",
            "tornado==5.1.1\n",
            "tqdm==4.62.0\n",
            "traitlets==5.0.5\n",
            "tweepy==3.10.0\n",
            "typeguard==2.7.1\n",
            "typing-extensions==3.7.4.3\n",
            "tzlocal==1.5.1\n",
            "uritemplate==3.0.1\n",
            "urllib3==1.24.3\n",
            "vega-datasets==0.9.0\n",
            "wasabi==0.8.2\n",
            "wcwidth==0.2.5\n",
            "webencodings==0.5.1\n",
            "Werkzeug==1.0.1\n",
            "widgetsnbextension==3.5.1\n",
            "wordcloud==1.5.0\n",
            "wrapt==1.12.1\n",
            "xarray==0.18.2\n",
            "xgboost==0.90\n",
            "xkit==0.0.0\n",
            "xlrd==1.1.0\n",
            "xlwt==1.3.0\n",
            "yellowbrick==0.9.1\n",
            "zict==2.0.0\n",
            "zipp==3.5.0\n"
          ],
          "name": "stdout"
        }
      ]
    },
    {
      "cell_type": "code",
      "metadata": {
        "id": "eDI5zW8MpL2U"
      },
      "source": [
        "#conforming to MOC"
      ],
      "execution_count": 33,
      "outputs": []
    },
    {
      "cell_type": "code",
      "metadata": {
        "id": "ojKUoSd8pc1a"
      },
      "source": [
        "def begin():\n",
        "    \n",
        "    global arima_model\n",
        "    \n",
        "    # load pickled logistic regression model\n",
        "    arima_model = pickle.load(open(\"Arima_model.pickle\", \"rb\"))"
      ],
      "execution_count": 34,
      "outputs": []
    },
    {
      "cell_type": "code",
      "metadata": {
        "id": "Cllut8VspqEe"
      },
      "source": [
        "def action(n):\n",
        "    global df_forecast, df_conf\n",
        "    \n",
        "    forecast,conf_int = arima_model.predict(n_periods=n,return_conf_int=True)\n",
        "    df_forecast = pd.DataFrame(forecast,columns=['close_pred'])\n",
        "    df_conf = pd.DataFrame(conf_int,columns= ['Upper_bound','Lower_bound'])\n",
        "    \n",
        "    return df_forecast.to_dict(orient=\"records\"),df_conf.to_dict(orient=\"records\")"
      ],
      "execution_count": 35,
      "outputs": []
    },
    {
      "cell_type": "code",
      "metadata": {
        "id": "El2akFAmp90i"
      },
      "source": [
        "def metric(test):\n",
        "  # Turn data into DataFrame\n",
        "    data = pd.DataFrame(test)\n",
        "    \n",
        "    y_true = data['Close']\n",
        "    y_pred = df_forecast\n",
        "    def mean_absolute_percentage_error(y_true, y_pred): \n",
        "        y_true, y_pred = np.array(y_true), np.array(y_pred)\n",
        "        return np.mean(np.abs((y_true - y_pred) / y_true)) * 100\n",
        "    print('Evaluation metric results:-')\n",
        "    print(f'MSE is : {metrics.mean_squared_error(y_true, y_pred)}')\n",
        "    print(f'MAE is : {metrics.mean_absolute_error(y_true, y_pred)}')\n",
        "    print(f'RMSE is : {np.sqrt(metrics.mean_squared_error(y_true, y_pred))}')\n",
        "    print(f'MAPE is : {mean_absolute_percentage_error(y_true, y_pred)}')\n",
        "    print(f'R2 is : {metrics.r2_score(y_true, y_pred)}',end='\\n\\n')\n",
        "    return {'MSE':metrics.mean_squared_error(y_true, y_pred),'MAE': metrics.mean_absolute_error(y_true, y_pred),\n",
        "           'RMSE':np.sqrt(metrics.mean_squared_error(y_true, y_pred)), 'MAPE':mean_absolute_percentage_error(y_true, y_pred),\n",
        "           'R2':metrics.r2_score(y_true, y_pred)}"
      ],
      "execution_count": 63,
      "outputs": []
    },
    {
      "cell_type": "code",
      "metadata": {
        "id": "v9oATRuCqkJY"
      },
      "source": [
        "begin()"
      ],
      "execution_count": 40,
      "outputs": []
    },
    {
      "cell_type": "code",
      "metadata": {
        "colab": {
          "base_uri": "https://localhost:8080/"
        },
        "id": "aVgIy5pVqoGJ",
        "outputId": "5dc79092-4bcf-4044-d2a6-43088709e24b"
      },
      "source": [
        "action(30)"
      ],
      "execution_count": 62,
      "outputs": [
        {
          "output_type": "execute_result",
          "data": {
            "text/plain": [
              "([{'close_pred': 186.43351513623293},\n",
              "  {'close_pred': 186.4919042051365},\n",
              "  {'close_pred': 186.5545042164988},\n",
              "  {'close_pred': 186.6207386367754},\n",
              "  {'close_pred': 186.6901098674658},\n",
              "  {'close_pred': 186.76218843786512},\n",
              "  {'close_pred': 186.8366036774706},\n",
              "  {'close_pred': 186.91303566545866},\n",
              "  {'close_pred': 186.99120828238463},\n",
              "  {'close_pred': 187.0708832131965},\n",
              "  {'close_pred': 187.15185477131513},\n",
              "  {'close_pred': 187.233945431366},\n",
              "  {'close_pred': 187.3170019735391},\n",
              "  {'close_pred': 187.40089215583663},\n",
              "  {'close_pred': 187.48550184193388},\n",
              "  {'close_pred': 187.57073252227394},\n",
              "  {'close_pred': 187.65649917455707},\n",
              "  {'close_pred': 187.74272841715742},\n",
              "  {'close_pred': 187.82935691536125},\n",
              "  {'close_pred': 187.9163300058122},\n",
              "  {'close_pred': 188.00360050928816},\n",
              "  {'close_pred': 188.0911277060246},\n",
              "  {'close_pred': 188.1788764513296},\n",
              "  {'close_pred': 188.26681641228296},\n",
              "  {'close_pred': 188.35492140894124},\n",
              "  {'close_pred': 188.44316884574042},\n",
              "  {'close_pred': 188.5315392207471},\n",
              "  {'close_pred': 188.62001570209975},\n",
              "  {'close_pred': 188.70858376244058},\n",
              "  {'close_pred': 188.79723086339862}],\n",
              " [{'Lower_bound': 191.7133828768658, 'Upper_bound': 181.15364739560005},\n",
              "  {'Lower_bound': 193.82273875371703, 'Upper_bound': 179.16106965655598},\n",
              "  {'Lower_bound': 195.38222310484886, 'Upper_bound': 177.72678532814874},\n",
              "  {'Lower_bound': 196.65638433112517, 'Upper_bound': 176.58509294242563},\n",
              "  {'Lower_bound': 197.7501015260587, 'Upper_bound': 175.6301182088729},\n",
              "  {'Lower_bound': 198.71804197789348, 'Upper_bound': 174.80633489783676},\n",
              "  {'Lower_bound': 199.59299360422065, 'Upper_bound': 174.08021375072056},\n",
              "  {'Lower_bound': 200.3963931605498, 'Upper_bound': 173.42967817036754},\n",
              "  {'Lower_bound': 201.14309900822303, 'Upper_bound': 172.83931755654623},\n",
              "  {'Lower_bound': 201.84385328907612, 'Upper_bound': 172.2979131373169},\n",
              "  {'Lower_bound': 202.50667378165423, 'Upper_bound': 171.79703576097603},\n",
              "  {'Lower_bound': 203.1376962844097, 'Upper_bound': 171.3301945783223},\n",
              "  {'Lower_bound': 203.74171209720691, 'Upper_bound': 170.8922918498713},\n",
              "  {'Lower_bound': 204.32252567383938, 'Upper_bound': 170.47925863783388},\n",
              "  {'Lower_bound': 204.88320087631752, 'Upper_bound': 170.08780280755025},\n",
              "  {'Lower_bound': 205.4262353822321, 'Upper_bound': 169.71522966231578},\n",
              "  {'Lower_bound': 205.95368716741183, 'Upper_bound': 169.3593111817023},\n",
              "  {'Lower_bound': 206.4672680968885, 'Upper_bound': 169.01818873742636},\n",
              "  {'Lower_bound': 206.9684143841038, 'Upper_bound': 168.6902994466187},\n",
              "  {'Lower_bound': 207.45834043541657, 'Upper_bound': 168.37431957620782},\n",
              "  {'Lower_bound': 207.9380805393341, 'Upper_bound': 168.06912047924223},\n",
              "  {'Lower_bound': 208.4085215181294, 'Upper_bound': 167.7737338939198},\n",
              "  {'Lower_bound': 208.87042856322452, 'Upper_bound': 167.48732433943465},\n",
              "  {'Lower_bound': 209.32446586406107, 'Upper_bound': 167.20916696050486},\n",
              "  {'Lower_bound': 209.77121321470204, 'Upper_bound': 166.93862960318043},\n",
              "  {'Lower_bound': 210.21117948130566, 'Upper_bound': 166.67515821017517},\n",
              "  {'Lower_bound': 210.64481359718775, 'Upper_bound': 166.41826484430646},\n",
              "  {'Lower_bound': 211.0725135944203, 'Upper_bound': 166.1675178097792},\n",
              "  {'Lower_bound': 211.49463406441276, 'Upper_bound': 165.9225334604684},\n",
              "  {'Lower_bound': 211.91149235287799, 'Upper_bound': 165.68296937391926}])"
            ]
          },
          "metadata": {
            "tags": []
          },
          "execution_count": 62
        }
      ]
    },
    {
      "cell_type": "code",
      "metadata": {
        "id": "TWbFKIxkq5UT"
      },
      "source": [
        "test = pd.read_json('test.json',orient='records',lines=True)"
      ],
      "execution_count": 42,
      "outputs": []
    },
    {
      "cell_type": "code",
      "metadata": {
        "colab": {
          "base_uri": "https://localhost:8080/",
          "height": 979
        },
        "id": "D1hd3jpXrKZh",
        "outputId": "b2d81bee-fb8b-4777-c187-c12d6d6cb08f"
      },
      "source": [
        "test"
      ],
      "execution_count": 43,
      "outputs": [
        {
          "output_type": "execute_result",
          "data": {
            "text/html": [
              "<div>\n",
              "<style scoped>\n",
              "    .dataframe tbody tr th:only-of-type {\n",
              "        vertical-align: middle;\n",
              "    }\n",
              "\n",
              "    .dataframe tbody tr th {\n",
              "        vertical-align: top;\n",
              "    }\n",
              "\n",
              "    .dataframe thead th {\n",
              "        text-align: right;\n",
              "    }\n",
              "</style>\n",
              "<table border=\"1\" class=\"dataframe\">\n",
              "  <thead>\n",
              "    <tr style=\"text-align: right;\">\n",
              "      <th></th>\n",
              "      <th>Close</th>\n",
              "    </tr>\n",
              "  </thead>\n",
              "  <tbody>\n",
              "    <tr>\n",
              "      <th>0</th>\n",
              "      <td>187.889999</td>\n",
              "    </tr>\n",
              "    <tr>\n",
              "      <th>1</th>\n",
              "      <td>189.399994</td>\n",
              "    </tr>\n",
              "    <tr>\n",
              "      <th>2</th>\n",
              "      <td>189.309998</td>\n",
              "    </tr>\n",
              "    <tr>\n",
              "      <th>3</th>\n",
              "      <td>188.250000</td>\n",
              "    </tr>\n",
              "    <tr>\n",
              "      <th>4</th>\n",
              "      <td>191.649994</td>\n",
              "    </tr>\n",
              "    <tr>\n",
              "      <th>5</th>\n",
              "      <td>193.619995</td>\n",
              "    </tr>\n",
              "    <tr>\n",
              "      <th>6</th>\n",
              "      <td>194.720001</td>\n",
              "    </tr>\n",
              "    <tr>\n",
              "      <th>7</th>\n",
              "      <td>194.320007</td>\n",
              "    </tr>\n",
              "    <tr>\n",
              "      <th>8</th>\n",
              "      <td>191.550003</td>\n",
              "    </tr>\n",
              "    <tr>\n",
              "      <th>9</th>\n",
              "      <td>190.419998</td>\n",
              "    </tr>\n",
              "    <tr>\n",
              "      <th>10</th>\n",
              "      <td>190.839996</td>\n",
              "    </tr>\n",
              "    <tr>\n",
              "      <th>11</th>\n",
              "      <td>189.610001</td>\n",
              "    </tr>\n",
              "    <tr>\n",
              "      <th>12</th>\n",
              "      <td>194.470001</td>\n",
              "    </tr>\n",
              "    <tr>\n",
              "      <th>13</th>\n",
              "      <td>193.190002</td>\n",
              "    </tr>\n",
              "    <tr>\n",
              "      <th>14</th>\n",
              "      <td>193.149994</td>\n",
              "    </tr>\n",
              "    <tr>\n",
              "      <th>15</th>\n",
              "      <td>195.100006</td>\n",
              "    </tr>\n",
              "    <tr>\n",
              "      <th>16</th>\n",
              "      <td>197.399994</td>\n",
              "    </tr>\n",
              "    <tr>\n",
              "      <th>17</th>\n",
              "      <td>199.320007</td>\n",
              "    </tr>\n",
              "    <tr>\n",
              "      <th>18</th>\n",
              "      <td>197.509995</td>\n",
              "    </tr>\n",
              "    <tr>\n",
              "      <th>19</th>\n",
              "      <td>197.929993</td>\n",
              "    </tr>\n",
              "    <tr>\n",
              "      <th>20</th>\n",
              "      <td>198.820007</td>\n",
              "    </tr>\n",
              "    <tr>\n",
              "      <th>21</th>\n",
              "      <td>199.789993</td>\n",
              "    </tr>\n",
              "    <tr>\n",
              "      <th>22</th>\n",
              "      <td>198.970001</td>\n",
              "    </tr>\n",
              "    <tr>\n",
              "      <th>23</th>\n",
              "      <td>202.000000</td>\n",
              "    </tr>\n",
              "    <tr>\n",
              "      <th>24</th>\n",
              "      <td>201.639999</td>\n",
              "    </tr>\n",
              "    <tr>\n",
              "      <th>25</th>\n",
              "      <td>199.699997</td>\n",
              "    </tr>\n",
              "    <tr>\n",
              "      <th>26</th>\n",
              "      <td>198.820007</td>\n",
              "    </tr>\n",
              "    <tr>\n",
              "      <th>27</th>\n",
              "      <td>198.710007</td>\n",
              "    </tr>\n",
              "    <tr>\n",
              "      <th>28</th>\n",
              "      <td>199.360001</td>\n",
              "    </tr>\n",
              "    <tr>\n",
              "      <th>29</th>\n",
              "      <td>201.050003</td>\n",
              "    </tr>\n",
              "  </tbody>\n",
              "</table>\n",
              "</div>"
            ],
            "text/plain": [
              "         Close\n",
              "0   187.889999\n",
              "1   189.399994\n",
              "2   189.309998\n",
              "3   188.250000\n",
              "4   191.649994\n",
              "5   193.619995\n",
              "6   194.720001\n",
              "7   194.320007\n",
              "8   191.550003\n",
              "9   190.419998\n",
              "10  190.839996\n",
              "11  189.610001\n",
              "12  194.470001\n",
              "13  193.190002\n",
              "14  193.149994\n",
              "15  195.100006\n",
              "16  197.399994\n",
              "17  199.320007\n",
              "18  197.509995\n",
              "19  197.929993\n",
              "20  198.820007\n",
              "21  199.789993\n",
              "22  198.970001\n",
              "23  202.000000\n",
              "24  201.639999\n",
              "25  199.699997\n",
              "26  198.820007\n",
              "27  198.710007\n",
              "28  199.360001\n",
              "29  201.050003"
            ]
          },
          "metadata": {
            "tags": []
          },
          "execution_count": 43
        }
      ]
    },
    {
      "cell_type": "code",
      "metadata": {
        "colab": {
          "base_uri": "https://localhost:8080/"
        },
        "id": "TcMEUcOFrLpS",
        "outputId": "042bac1a-b184-481e-d18d-9a9f77499096"
      },
      "source": [
        "metric(test)"
      ],
      "execution_count": 64,
      "outputs": [
        {
          "output_type": "stream",
          "text": [
            "Evaluation metric results:-\n",
            "MSE is : 73.01622257182551\n",
            "MAE is : 7.728152585668979\n",
            "RMSE is : 8.544953046788818\n",
            "MAPE is : 3.9194805355310254\n",
            "R2 is : -2.9893489214176627\n",
            "\n"
          ],
          "name": "stdout"
        },
        {
          "output_type": "execute_result",
          "data": {
            "text/plain": [
              "{'MAE': 7.728152585668979,\n",
              " 'MAPE': 3.9194805355310254,\n",
              " 'MSE': 73.01622257182551,\n",
              " 'R2': -2.9893489214176627,\n",
              " 'RMSE': 8.544953046788818}"
            ]
          },
          "metadata": {
            "tags": []
          },
          "execution_count": 64
        }
      ]
    },
    {
      "cell_type": "code",
      "metadata": {
        "id": "k8CWkDVsrPqj"
      },
      "source": [
        ""
      ],
      "execution_count": null,
      "outputs": []
    }
  ]
}